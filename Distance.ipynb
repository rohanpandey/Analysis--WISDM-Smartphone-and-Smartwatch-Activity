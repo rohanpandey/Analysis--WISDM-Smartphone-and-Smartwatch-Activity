{
 "cells": [
  {
   "cell_type": "code",
   "execution_count": 1,
   "metadata": {},
   "outputs": [],
   "source": [
    "import pandas as pd\n",
    "from scipy.stats import wasserstein_distance\n",
    "from scipy import stats\n",
    "import math  \n",
    "from scipy.stats import entropy"
   ]
  },
  {
   "cell_type": "code",
   "execution_count": 2,
   "metadata": {},
   "outputs": [],
   "source": [
    "#Loading the processed CSVs\n",
    "\n",
    "df_phone_accel_orig = pd.read_csv(\".\\\\processed\\\\phone\\\\accel\\\\data.csv\")\n",
    "df_watch_accel_orig = pd.read_csv(\".\\\\processed\\\\watch\\\\accel\\\\data.csv\")\n",
    "\n",
    "df_phone_gyro_orig = pd.read_csv(\".\\\\processed\\\\phone\\\\gyro\\\\data.csv\")\n",
    "df_watch_gyro_orig = pd.read_csv(\".\\\\processed\\\\watch\\\\gyro\\\\data.csv\")"
   ]
  },
  {
   "cell_type": "code",
   "execution_count": 3,
   "metadata": {},
   "outputs": [
    {
     "name": "stdout",
     "output_type": "stream",
     "text": [
      "     ID activity        timestamp         x          y         z  meter device\n",
      "0  1600        A  252207666810782 -0.364761   8.793503  1.055084  accel  phone\n",
      "1  1600        A  252207717164786 -0.879730   9.768784  1.016998  accel  phone\n",
      "2  1600        A  252207767518790  2.001495  11.109070  2.619156  accel  phone\n",
      "3  1600        A  252207817872794  0.450623  12.651642  0.184555  accel  phone\n",
      "4  1600        A  252207868226798 -2.164352  13.928436 -4.422485  accel  phone\n",
      "     ID activity       timestamp         x         y         z  meter device\n",
      "0  1600        A  90426708196641  7.091625 -0.591667  8.195502  accel  watch\n",
      "1  1600        A  90426757696641  4.972757 -0.158317  6.696732  accel  watch\n",
      "2  1600        A  90426807196641  3.253720 -0.191835  6.107758  accel  watch\n",
      "3  1600        A  90426856696641  2.801216 -0.155922  5.997625  accel  watch\n",
      "4  1600        A  90426906196641  3.770868 -1.051354  7.731027  accel  watch\n"
     ]
    }
   ],
   "source": [
    "print(df_phone_accel_orig.head())\n",
    "print(df_watch_accel_orig.head())"
   ]
  },
  {
   "cell_type": "code",
   "execution_count": 4,
   "metadata": {},
   "outputs": [
    {
     "name": "stdout",
     "output_type": "stream",
     "text": [
      "A 51 51 51 51\n",
      "B 49 50 49 50\n",
      "C 50 50 50 48\n",
      "D 51 51 51 51\n",
      "E 51 51 51 50\n",
      "F 49 50 49 50\n",
      "G 51 51 51 51\n",
      "H 51 51 51 50\n",
      "I 50 51 50 51\n",
      "J 50 50 50 50\n",
      "K 51 51 51 51\n",
      "L 51 50 50 50\n",
      "M 51 51 51 51\n",
      "O 50 50 50 49\n",
      "P 51 51 51 51\n",
      "Q 51 51 50 51\n",
      "R 51 51 51 51\n",
      "S 51 51 51 51\n"
     ]
    }
   ],
   "source": [
    "for act in df_phone_accel_orig['activity'].unique(): \n",
    "    df_accel_phone=df_phone_accel_orig[df_phone_accel_orig['activity']==act]\n",
    "    df_accel_watch=df_watch_accel_orig[df_watch_accel_orig['activity']==act]\n",
    "\n",
    "    df_gyro_phone=df_phone_gyro_orig[df_phone_gyro_orig['activity']==act]\n",
    "    df_gyro_watch=df_watch_gyro_orig[df_watch_gyro_orig['activity']==act] \n",
    "    \n",
    "    print(act,len(df_accel_phone['ID'].unique()),len(df_accel_watch['ID'].unique()),len(df_gyro_phone['ID'].unique()),len(df_gyro_watch['ID'].unique()))"
   ]
  },
  {
   "cell_type": "markdown",
   "metadata": {},
   "source": [
    "## Wasserstein Distance"
   ]
  },
  {
   "cell_type": "code",
   "execution_count": null,
   "metadata": {},
   "outputs": [],
   "source": [
    "column_names = ['Activity']\n",
    "WD_dataframe=pd.DataFrame(columns = column_names)"
   ]
  },
  {
   "cell_type": "code",
   "execution_count": 10,
   "metadata": {},
   "outputs": [
    {
     "name": "stdout",
     "output_type": "stream",
     "text": [
      "   Activity     accln      gyro      mean\n",
      "14        P  3.702862  3.363080  3.532971\n",
      "13        O  2.784826  2.671677  2.728251\n",
      "1         B  2.265813  0.895292  1.580553\n",
      "16        R  1.703476  1.252354  1.477915\n",
      "17        S  1.325339  1.595956  1.460647\n",
      "0         A  0.768594  0.709807  0.739201\n",
      "6         G  0.671381  0.759034  0.715207\n",
      "12        M  0.424066  0.696428  0.560247\n",
      "2         C  0.338607  0.627638  0.483122\n",
      "9         J  0.185618  0.555554  0.370586\n",
      "8         I  0.178421  0.497428  0.337924\n",
      "7         H  0.124093  0.484632  0.304363\n",
      "11        L  0.183438  0.364548  0.273993\n",
      "15        Q  0.159054  0.275587  0.217320\n",
      "10        K  0.150165  0.278622  0.214393\n",
      "3         D  0.192989  0.157450  0.175219\n",
      "5         F  0.128643  0.209851  0.169247\n",
      "4         E  0.060520  0.132584  0.096552\n"
     ]
    }
   ],
   "source": [
    "import numpy as np\n",
    "data = []\n",
    "for act in df_phone_accel_orig['activity'].unique(): \n",
    "    df_accel_phone=df_phone_accel_orig[df_phone_accel_orig['activity']==act]\n",
    "    df_accel_watch=df_watch_accel_orig[df_watch_accel_orig['activity']==act]\n",
    "    \n",
    "    df_gyro_phone=df_phone_gyro_orig[df_phone_gyro_orig['activity']==act]\n",
    "    df_gyro_watch=df_watch_gyro_orig[df_watch_gyro_orig['activity']==act]\n",
    "    \n",
    "    x1=df_accel_phone['x']\n",
    "    x2=df_accel_watch['x']\n",
    "    y1=df_accel_phone['y']\n",
    "    y2=df_accel_watch['y']\n",
    "    z1=df_accel_phone['z']\n",
    "    z2=df_accel_watch['z']\n",
    "    \n",
    "    accln_phone=np.sqrt(x1**2 + y1**2+z1**2)\n",
    "    accln_watch=np.sqrt(x2**2 + y2**2+z2**2)\n",
    "    \n",
    "    accel=wasserstein_distance(accln_phone, accln_watch) \n",
    "    \n",
    "    x1=df_gyro_phone['x']\n",
    "    x2=df_gyro_watch['x']\n",
    "    y1=df_gyro_phone['y']\n",
    "    y2=df_gyro_watch['y']\n",
    "    z1=df_gyro_phone['z']\n",
    "    z2=df_gyro_watch['z']\n",
    "    \n",
    "    accln_phone=np.sqrt(x1**2 + y1**2+z1**2)\n",
    "    accln_watch=np.sqrt(x2**2 + y2**2+z2**2)\n",
    "    \n",
    "    gyro=wasserstein_distance(accln_phone, accln_watch) \n",
    "    \n",
    "    dict1={'Activity':act,'accln':accel,'gyro':gyro}\n",
    "    data.append(dict1)\n",
    "WD_dataframe = WD_dataframe.append(data, True)\n",
    "WD_dataframe['mean']=WD_dataframe.mean(axis=1)\n",
    "WD_dataframe=WD_dataframe.sort_values(by=['mean'],ascending=False)\n",
    "print(WD_dataframe)"
   ]
  },
  {
   "cell_type": "markdown",
   "metadata": {},
   "source": [
    "## KS-test"
   ]
  },
  {
   "cell_type": "code",
   "execution_count": 17,
   "metadata": {},
   "outputs": [],
   "source": [
    "column_names = ['Activity']\n",
    "WD_dataframe=pd.DataFrame(columns = column_names)"
   ]
  },
  {
   "cell_type": "code",
   "execution_count": 18,
   "metadata": {},
   "outputs": [
    {
     "name": "stdout",
     "output_type": "stream",
     "text": [
      "   Activity     accln      gyro\n",
      "0         A  0.100355  0.216006\n",
      "1         B  0.132337  0.206046\n",
      "2         C  0.055613  0.162676\n",
      "3         D  0.236038  0.156982\n",
      "4         E  0.059054  0.146326\n",
      "5         F  0.079087  0.591994\n",
      "6         G  0.247835  0.665221\n",
      "7         H  0.088421  0.614614\n",
      "8         I  0.147538  0.515277\n",
      "9         J  0.109504  0.637164\n",
      "10        K  0.150933  0.424466\n",
      "11        L  0.222303  0.396574\n",
      "12        M  0.100955  0.199669\n",
      "13        O  0.320351  0.545033\n",
      "14        P  0.332282  0.634787\n",
      "15        Q  0.109171  0.631800\n",
      "16        R  0.281976  0.702736\n",
      "17        S  0.298821  0.651672\n"
     ]
    },
    {
     "name": "stderr",
     "output_type": "stream",
     "text": [
      "C:\\Users\\Rohan Pandey\\Anaconda3\\lib\\site-packages\\pandas\\core\\frame.py:6692: FutureWarning: Sorting because non-concatenation axis is not aligned. A future version\n",
      "of pandas will change to not sort by default.\n",
      "\n",
      "To accept the future behavior, pass 'sort=False'.\n",
      "\n",
      "To retain the current behavior and silence the warning, pass 'sort=True'.\n",
      "\n",
      "  sort=sort)\n"
     ]
    }
   ],
   "source": [
    "import numpy as np\n",
    "data = []\n",
    "for act in df_phone_accel_orig['activity'].unique(): \n",
    "    df_accel_phone=df_phone_accel_orig[df_phone_accel_orig['activity']==act]\n",
    "    df_accel_watch=df_watch_accel_orig[df_watch_accel_orig['activity']==act]\n",
    "    \n",
    "    df_gyro_phone=df_phone_gyro_orig[df_phone_gyro_orig['activity']==act]\n",
    "    df_gyro_watch=df_watch_gyro_orig[df_watch_gyro_orig['activity']==act]\n",
    "    \n",
    "    x1=df_accel_phone['x']\n",
    "    x2=df_accel_watch['x']\n",
    "    y1=df_accel_phone['y']\n",
    "    y2=df_accel_watch['y']\n",
    "    z1=df_accel_phone['z']\n",
    "    z2=df_accel_watch['z']\n",
    "    \n",
    "    accln_phone=np.sqrt(x1**2 + y1**2+z1**2)\n",
    "    accln_watch=np.sqrt(x2**2 + y2**2+z2**2)\n",
    "    accel=stats.ks_2samp(accln_phone, accln_watch)[0]\n",
    "    p1=stats.ks_2samp(accln_phone, accln_watch)[1]\n",
    "    \n",
    "    x1=df_gyro_phone['x']\n",
    "    x2=df_gyro_watch['x']\n",
    "    y1=df_gyro_phone['y']\n",
    "    y2=df_gyro_watch['y']\n",
    "    z1=df_gyro_phone['z']\n",
    "    z2=df_gyro_watch['z']\n",
    "    \n",
    "    accln_phone=np.sqrt(x1**2 + y1**2+z1**2)\n",
    "    accln_watch=np.sqrt(x2**2 + y2**2+z2**2)\n",
    "    \n",
    "    gyro=stats.ks_2samp(accln_phone, accln_watch)[0]\n",
    "    p2=stats.ks_2samp(accln_phone, accln_watch)[1]\n",
    "    \n",
    "    dict1={'Activity':act,'accln':accel,'gyro':gyro}\n",
    "    data.append(dict1)\n",
    "WD_dataframe = WD_dataframe.append(data, True)\n",
    "print(WD_dataframe)"
   ]
  },
  {
   "cell_type": "markdown",
   "metadata": {},
   "source": [
    "## Euclidean Distance"
   ]
  },
  {
   "cell_type": "code",
   "execution_count": 41,
   "metadata": {},
   "outputs": [],
   "source": [
    "column_names = ['Activity','Distance_accel','Distance_gyro']\n",
    "WD_dataframe=pd.DataFrame(columns = column_names)"
   ]
  },
  {
   "cell_type": "code",
   "execution_count": 42,
   "metadata": {},
   "outputs": [
    {
     "name": "stdout",
     "output_type": "stream",
     "text": [
      "   Activity  Distance_accel  Distance_gyro      mean\n",
      "5         F        6.341049       0.004326  3.172688\n",
      "9         J        6.280021       0.009596  3.144809\n",
      "7         H        5.832627       0.020533  2.926580\n",
      "10        K        5.570268       0.005216  2.787742\n",
      "2         C        5.499042       0.029910  2.764476\n",
      "6         G        5.502865       0.002632  2.752749\n",
      "4         E        5.342332       0.001706  2.672019\n",
      "11        L        5.316511       0.005517  2.661014\n",
      "3         D        5.257397       0.005837  2.631617\n",
      "15        Q        5.144529       0.004293  2.574411\n",
      "0         A        4.929606       0.018375  2.473990\n",
      "12        M        4.805975       0.008193  2.407084\n",
      "16        R        4.697682       0.003846  2.350764\n",
      "8         I        4.609330       0.009526  2.309428\n",
      "1         B        4.295793       0.225549  2.260671\n",
      "17        S        4.278334       0.017336  2.147835\n",
      "14        P        3.393081       0.391415  1.892248\n",
      "13        O        3.091597       0.099658  1.595628\n"
     ]
    }
   ],
   "source": [
    "data = []\n",
    "for act in df_phone_orig['activity'].unique(): \n",
    "    df_accel_phone=df_phone_accel_orig[df_phone_accel_orig['activity']==act]\n",
    "    df_accel_watch=df_watch_accel_orig[df_watch_accel_orig['activity']==act]\n",
    "    \n",
    "    df_gyro_phone=df_phone_gyro_orig[df_phone_gyro_orig['activity']==act]\n",
    "    df_gyro_watch=df_watch_gyro_orig[df_watch_gyro_orig['activity']==act]\n",
    "    \n",
    "    x1=df_accel_phone['x'].mean()\n",
    "    x2=df_accel_watch['x'].mean()\n",
    "    y1=df_accel_phone['y'].mean()\n",
    "    y2=df_accel_watch['y'].mean()\n",
    "    z1=df_accel_phone['z'].mean()\n",
    "    z2=df_accel_watch['z'].mean()\n",
    "    \n",
    "    distance_accel=(math.sqrt((x1-x2)**2 + (y1-y2)**2 + (z1-z2)**2))\n",
    "    \n",
    "    x1=df_gyro_phone['x'].mean()\n",
    "    x2=df_gyro_watch['x'].mean()\n",
    "    y1=df_gyro_phone['y'].mean()\n",
    "    y2=df_gyro_watch['y'].mean()\n",
    "    z1=df_gyro_phone['z'].mean()\n",
    "    z2=df_gyro_watch['z'].mean()\n",
    "    \n",
    "    distance_gyro=(math.sqrt((x1-x2)**2 + (y1-y2)**2 + (z1-z2)**2))\n",
    "    \n",
    "    dict1={'Activity':act,'Distance_accel':distance_accel,'Distance_gyro':distance_gyro}\n",
    "    data.append(dict1)\n",
    "WD_dataframe = WD_dataframe.append(data, True)   \n",
    "WD_dataframe['mean']=WD_dataframe.mean(axis=1)\n",
    "WD_dataframe=WD_dataframe.sort_values(by=['mean'],ascending=False)\n",
    "print(WD_dataframe)"
   ]
  }
 ],
 "metadata": {
  "kernelspec": {
   "display_name": "Python 3",
   "language": "python",
   "name": "python3"
  },
  "language_info": {
   "codemirror_mode": {
    "name": "ipython",
    "version": 3
   },
   "file_extension": ".py",
   "mimetype": "text/x-python",
   "name": "python",
   "nbconvert_exporter": "python",
   "pygments_lexer": "ipython3",
   "version": "3.7.3"
  }
 },
 "nbformat": 4,
 "nbformat_minor": 2
}

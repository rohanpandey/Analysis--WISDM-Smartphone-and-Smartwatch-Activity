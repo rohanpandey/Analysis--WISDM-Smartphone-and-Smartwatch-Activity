{
 "cells": [
  {
   "cell_type": "code",
   "execution_count": 1,
   "metadata": {},
   "outputs": [],
   "source": [
    "import glob\n",
    "import pandas as pd\n",
    "import os"
   ]
  },
  {
   "cell_type": "code",
   "execution_count": 2,
   "metadata": {},
   "outputs": [],
   "source": [
    "folder1=glob.glob(\".\\\\wisdm-dataset\\\\raw\\\\*\")\n",
    "column_names = ['ID', 'activity','timestamp','x','y','z']\n",
    "overall_dataframe=pd.DataFrame(columns = column_names)\n",
    "for subfolder in folder1:\n",
    "    parent_dir = \".\\\\processed\\\\\"\n",
    "    path = os.path.join(parent_dir, subfolder.split('\\\\')[-1]) \n",
    "    os.mkdir(path) \n",
    "    folder2=glob.glob(subfolder+\"\\\\*\")\n",
    "    for subsubfolder in folder2:\n",
    "        activity_dataframe = pd.DataFrame(columns = column_names)\n",
    "        subfolder_path = os.path.join(path, subsubfolder.split('\\\\')[-1]) \n",
    "        os.mkdir(subfolder_path) \n",
    "        files=glob.glob(subsubfolder+\"\\\\*\")\n",
    "        for file in files:\n",
    "            df = pd.read_csv(file, sep=\",\",header=None)\n",
    "            df.columns = ['ID','activity','timestamp','x','y','z']\n",
    "            activity_dataframe=activity_dataframe.append(df)\n",
    "        activity_dataframe['z']=activity_dataframe['z'].str[:-1]    \n",
    "        activity_dataframe['meter']=subsubfolder.split('\\\\')[-1]\n",
    "        activity_dataframe['device']=subfolder.split('\\\\')[-1]\n",
    "        activity_dataframe.to_csv(subfolder_path+'\\\\data.csv',index=False)"
   ]
  }
 ],
 "metadata": {
  "kernelspec": {
   "display_name": "Python 3",
   "language": "python",
   "name": "python3"
  },
  "language_info": {
   "codemirror_mode": {
    "name": "ipython",
    "version": 3
   },
   "file_extension": ".py",
   "mimetype": "text/x-python",
   "name": "python",
   "nbconvert_exporter": "python",
   "pygments_lexer": "ipython3",
   "version": "3.7.3"
  }
 },
 "nbformat": 4,
 "nbformat_minor": 2
}

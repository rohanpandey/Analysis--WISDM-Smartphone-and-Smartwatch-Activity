{
 "cells": [
  {
   "cell_type": "code",
   "execution_count": 1,
   "metadata": {},
   "outputs": [],
   "source": [
    "import numpy as np\n",
    "import matplotlib.pyplot as plt\n",
    "import pandas as pd\n",
    "from sklearn.cluster import KMeans\n",
    "from sklearn.cluster import AgglomerativeClustering"
   ]
  },
  {
   "cell_type": "code",
   "execution_count": 2,
   "metadata": {},
   "outputs": [],
   "source": [
    "df_phone_accel_orig = pd.read_csv(\".\\\\processed\\\\phone\\\\accel\\\\data.csv\")\n",
    "df_watch_accel_orig = pd.read_csv(\".\\\\processed\\\\watch\\\\accel\\\\data.csv\")\n",
    "\n",
    "df_phone_gyro_orig = pd.read_csv(\".\\\\processed\\\\phone\\\\gyro\\\\data.csv\")\n",
    "df_watch_gyro_orig = pd.read_csv(\".\\\\processed\\\\watch\\\\gyro\\\\data.csv\")"
   ]
  },
  {
   "cell_type": "markdown",
   "metadata": {},
   "source": [
    "# Approach 1: Using all data"
   ]
  },
  {
   "cell_type": "markdown",
   "metadata": {},
   "source": [
    "## Watch"
   ]
  },
  {
   "cell_type": "markdown",
   "metadata": {},
   "source": [
    "### Acc"
   ]
  },
  {
   "cell_type": "code",
   "execution_count": 3,
   "metadata": {},
   "outputs": [],
   "source": [
    "X=df_watch_accel_orig.iloc[:,[3,4,5]].values"
   ]
  },
  {
   "cell_type": "code",
   "execution_count": 4,
   "metadata": {},
   "outputs": [],
   "source": [
    "kmeans = KMeans(n_clusters=3, init ='k-means++', max_iter=1000, n_init=50,random_state=0 )\n",
    "y_kmeans = kmeans.fit_predict(X)\n",
    "df_watch_accel_orig['Label'] = y_kmeans "
   ]
  },
  {
   "cell_type": "code",
   "execution_count": 5,
   "metadata": {},
   "outputs": [],
   "source": [
    "column_names = ['Activity','Cluster']\n",
    "cluster=pd.DataFrame(columns = column_names)\n",
    "data = []\n",
    "for act in df_watch_accel_orig['activity'].unique(): \n",
    "    df_accel_phone=df_watch_accel_orig[df_watch_accel_orig['activity']==act]\n",
    "    dict1={'Activity':act,'Cluster':df_accel_phone.Label.mode()[0]}\n",
    "    data.append(dict1)\n",
    "cluster = cluster.append(data, True)"
   ]
  },
  {
   "cell_type": "code",
   "execution_count": 6,
   "metadata": {},
   "outputs": [
    {
     "name": "stdout",
     "output_type": "stream",
     "text": [
      "   Activity Cluster\n",
      "1         B       0\n",
      "7         H       0\n",
      "9         J       0\n",
      "13        O       0\n",
      "15        Q       0\n",
      "17        S       0\n",
      "0         A       1\n",
      "2         C       1\n",
      "4         E       1\n",
      "12        M       1\n",
      "14        P       1\n",
      "3         D       2\n",
      "5         F       2\n",
      "6         G       2\n",
      "8         I       2\n",
      "10        K       2\n",
      "11        L       2\n",
      "16        R       2\n"
     ]
    }
   ],
   "source": [
    "print(cluster.sort_values(by=['Cluster','Activity']))"
   ]
  },
  {
   "cell_type": "markdown",
   "metadata": {},
   "source": [
    "### Gyro"
   ]
  },
  {
   "cell_type": "code",
   "execution_count": 7,
   "metadata": {},
   "outputs": [],
   "source": [
    "X=df_watch_gyro_orig.iloc[:,[3,4,5]].values"
   ]
  },
  {
   "cell_type": "code",
   "execution_count": 8,
   "metadata": {},
   "outputs": [],
   "source": [
    "kmeans = KMeans(n_clusters=3, init ='k-means++', max_iter=500, n_init=20,random_state=0 )\n",
    "y_kmeans = kmeans.fit_predict(X)\n",
    "df_watch_gyro_orig['Label'] = y_kmeans "
   ]
  },
  {
   "cell_type": "code",
   "execution_count": 9,
   "metadata": {},
   "outputs": [],
   "source": [
    "column_names = ['Activity','Cluster']\n",
    "cluster1=pd.DataFrame(columns = column_names)\n",
    "data = []\n",
    "for act in df_watch_gyro_orig['activity'].unique(): \n",
    "    df_gyro_watch=df_watch_gyro_orig[df_watch_gyro_orig['activity']==act]\n",
    "    dict1={'Activity':act,'Cluster':df_gyro_watch.Label.mode()[0]}\n",
    "    data.append(dict1)\n",
    "cluster1 = cluster1.append(data, True)"
   ]
  },
  {
   "cell_type": "code",
   "execution_count": 10,
   "metadata": {},
   "outputs": [
    {
     "name": "stdout",
     "output_type": "stream",
     "text": [
      "   Activity Cluster\n",
      "0         A       1\n",
      "1         B       1\n",
      "2         C       1\n",
      "3         D       1\n",
      "4         E       1\n",
      "5         F       1\n",
      "6         G       1\n",
      "7         H       1\n",
      "8         I       1\n",
      "9         J       1\n",
      "10        K       1\n",
      "11        L       1\n",
      "12        M       1\n",
      "13        O       1\n",
      "14        P       1\n",
      "15        Q       1\n",
      "16        R       1\n",
      "17        S       1\n"
     ]
    }
   ],
   "source": [
    "print(cluster1)"
   ]
  },
  {
   "cell_type": "markdown",
   "metadata": {},
   "source": [
    "## Phone"
   ]
  },
  {
   "cell_type": "markdown",
   "metadata": {},
   "source": [
    "### Acc"
   ]
  },
  {
   "cell_type": "code",
   "execution_count": 11,
   "metadata": {},
   "outputs": [],
   "source": [
    "X=df_phone_accel_orig.iloc[:,[3,4,5]].values"
   ]
  },
  {
   "cell_type": "code",
   "execution_count": 12,
   "metadata": {},
   "outputs": [],
   "source": [
    "kmeans = KMeans(n_clusters=3, init ='k-means++', max_iter=1000, n_init=50,random_state=0 )\n",
    "y_kmeans = kmeans.fit_predict(X)\n",
    "df_phone_accel_orig['Label'] = y_kmeans "
   ]
  },
  {
   "cell_type": "code",
   "execution_count": 13,
   "metadata": {},
   "outputs": [],
   "source": [
    "column_names = ['Activity','Cluster']\n",
    "cluster=pd.DataFrame(columns = column_names)\n",
    "data = []\n",
    "for act in df_phone_accel_orig['activity'].unique(): \n",
    "    df_accel_phone=df_phone_accel_orig[df_phone_accel_orig['activity']==act]\n",
    "    dict1={'Activity':act,'Cluster':df_accel_phone.Label.mode()[0]}\n",
    "    data.append(dict1)\n",
    "cluster = cluster.append(data, True)"
   ]
  },
  {
   "cell_type": "code",
   "execution_count": 14,
   "metadata": {},
   "outputs": [
    {
     "name": "stdout",
     "output_type": "stream",
     "text": [
      "   Activity Cluster\n",
      "3         D       0\n",
      "5         F       0\n",
      "6         G       0\n",
      "8         I       0\n",
      "16        R       0\n",
      "0         A       1\n",
      "1         B       1\n",
      "2         C       1\n",
      "4         E       1\n",
      "9         J       1\n",
      "10        K       1\n",
      "11        L       1\n",
      "12        M       1\n",
      "13        O       1\n",
      "14        P       1\n",
      "15        Q       1\n",
      "17        S       1\n",
      "7         H       2\n"
     ]
    }
   ],
   "source": [
    "print(cluster.sort_values(by=['Cluster','Activity']))"
   ]
  },
  {
   "cell_type": "markdown",
   "metadata": {},
   "source": [
    "### Gyro"
   ]
  },
  {
   "cell_type": "code",
   "execution_count": 15,
   "metadata": {},
   "outputs": [],
   "source": [
    "X=df_phone_gyro_orig.iloc[:,[3,4,5]].values"
   ]
  },
  {
   "cell_type": "code",
   "execution_count": 16,
   "metadata": {},
   "outputs": [],
   "source": [
    "kmeans = KMeans(n_clusters=3, init ='k-means++', max_iter=500, n_init=20,random_state=0 )\n",
    "y_kmeans = kmeans.fit_predict(X)\n",
    "df_phone_gyro_orig['Label'] = y_kmeans "
   ]
  },
  {
   "cell_type": "code",
   "execution_count": 17,
   "metadata": {},
   "outputs": [],
   "source": [
    "column_names = ['Activity','Cluster']\n",
    "cluster1=pd.DataFrame(columns = column_names)\n",
    "data = []\n",
    "for act in df_phone_gyro_orig['activity'].unique(): \n",
    "    df_gyro_phone=df_phone_gyro_orig[df_phone_gyro_orig['activity']==act]\n",
    "    dict1={'Activity':act,'Cluster':df_gyro_phone.Label.mode()[0]}\n",
    "    data.append(dict1)\n",
    "cluster1 = cluster1.append(data, True)"
   ]
  },
  {
   "cell_type": "code",
   "execution_count": 18,
   "metadata": {},
   "outputs": [
    {
     "name": "stdout",
     "output_type": "stream",
     "text": [
      "   Activity Cluster\n",
      "0         A       0\n",
      "1         B       0\n",
      "2         C       0\n",
      "3         D       0\n",
      "4         E       0\n",
      "5         F       0\n",
      "6         G       0\n",
      "7         H       0\n",
      "8         I       0\n",
      "9         J       0\n",
      "10        K       0\n",
      "11        L       0\n",
      "12        M       0\n",
      "13        O       0\n",
      "14        P       0\n",
      "15        Q       0\n",
      "16        R       0\n",
      "17        S       0\n"
     ]
    }
   ],
   "source": [
    "print(cluster1)"
   ]
  },
  {
   "cell_type": "markdown",
   "metadata": {},
   "source": [
    "# Approach 2: Centroid"
   ]
  },
  {
   "cell_type": "code",
   "execution_count": 19,
   "metadata": {},
   "outputs": [],
   "source": [
    "column_names = ['Activity','x1','y1','z1','x2','y2','z2']\n",
    "phone_df=pd.DataFrame(columns = column_names)\n",
    "watch_df=pd.DataFrame(columns = column_names)\n",
    "\n",
    "data1 = []\n",
    "data2= []\n",
    "for act in df_phone_accel_orig['activity'].unique(): \n",
    "    df_accel_phone=df_phone_accel_orig[df_phone_accel_orig['activity']==act]\n",
    "    df_accel_watch=df_watch_accel_orig[df_watch_accel_orig['activity']==act]\n",
    "    \n",
    "    df_gyro_phone=df_phone_gyro_orig[df_phone_gyro_orig['activity']==act]\n",
    "    df_gyro_watch=df_watch_gyro_orig[df_watch_gyro_orig['activity']==act]\n",
    "    \n",
    "    x1=df_accel_phone['x'].mean()\n",
    "    x2=df_gyro_phone['x'].mean()\n",
    "    \n",
    "    y1=df_accel_phone['y'].mean()\n",
    "    y2=df_gyro_phone['y'].mean()\n",
    "    \n",
    "    z1=df_accel_phone['z'].mean()\n",
    "    z2=df_gyro_phone['z'].mean()\n",
    "    \n",
    "    \n",
    "    dict1={'Activity':act,'x1':x1,'y1':y1,'z1':z1,'x2':x2,'y2':y2,'z2':z2}\n",
    "    data1.append(dict1)\n",
    "    \n",
    "    x1=df_accel_watch['x'].mean()\n",
    "    x2=df_gyro_watch['x'].mean()\n",
    "    \n",
    "    y1=df_accel_watch['y'].mean() \n",
    "    y2=df_gyro_watch['y'].mean()\n",
    "    \n",
    "    z1=df_accel_watch['z'].mean()\n",
    "    z2=df_gyro_watch['z'].mean()\n",
    "    \n",
    "    dict2={'Activity':act,'x1':x1,'y1':y1,'z1':z1,'x2':x2,'y2':y2,'z2':z2}\n",
    "    data2.append(dict2)\n",
    "\n",
    "phone_df = phone_df.append(data1, True)   \n",
    "watch_df = watch_df.append(data2, True)   "
   ]
  },
  {
   "cell_type": "code",
   "execution_count": 20,
   "metadata": {},
   "outputs": [
    {
     "name": "stdout",
     "output_type": "stream",
     "text": [
      "   Activity        x1        y1        z1        x2        y2        z2\n",
      "0         A  0.949236 -2.321588 -0.159745 -0.002077  0.011853 -0.009068\n",
      "1         B  0.222337 -2.818930  0.089083 -0.029753 -0.029171 -0.015954\n",
      "2         C  0.204692 -3.350358 -0.608602  0.010929 -0.012997  0.000366\n",
      "3         D -0.113426 -0.898146  0.428868 -0.002636 -0.001546 -0.000102\n",
      "4         E -0.596092 -2.040649 -0.718897 -0.002129 -0.001898 -0.001759\n",
      "5         F -0.395725 -1.705319  0.260869 -0.002463 -0.000818 -0.002609\n",
      "6         G -0.119938 -1.273479 -0.096596 -0.003026 -0.000630 -0.002935\n",
      "7         H -0.008747 -0.766019  1.091866 -0.002210 -0.002025 -0.003482\n",
      "8         I -0.734535 -0.576693  1.879696 -0.002238 -0.002376 -0.002614\n",
      "9         J  1.259955 -1.162879  1.303108 -0.002164 -0.002564 -0.002209\n",
      "10        K  0.894594 -1.044495  0.746232 -0.001805 -0.001858 -0.002799\n",
      "11        L  1.006376 -0.786184  1.468486 -0.002117 -0.000573 -0.002013\n",
      "12        M  0.317484 -2.736209 -0.313712  0.002068  0.008468 -0.005265\n",
      "13        O -0.241793 -2.385464 -0.222695 -0.014731 -0.007066  0.009041\n",
      "14        P  0.504960 -1.881584  0.183099 -0.013215 -0.042859  0.020535\n",
      "15        Q -0.170456 -1.742381  0.995668 -0.002439 -0.001620 -0.003130\n",
      "16        R  0.168946 -1.060364 -0.077128 -0.002410 -0.001928 -0.001709\n",
      "17        S -0.683708 -1.757010  0.172157 -0.003149 -0.001202 -0.002127    Activity        x1        y1        z1        x2        y2        z2\n",
      "0         A  5.596478 -3.940206  0.130475 -0.017660  0.002256 -0.007426\n",
      "1         B  1.100125 -6.987424 -0.464980 -0.251163 -0.017893  0.025555\n",
      "2         C  5.605654 -3.628772  0.387169 -0.015807 -0.021793 -0.009755\n",
      "3         D  0.627913 -2.918544  5.225599  0.002877  0.000373 -0.000040\n",
      "4         E  4.316739 -3.378300  0.898292 -0.003628 -0.002232 -0.002501\n",
      "5         F -0.333785 -4.283944  6.053603  0.000827 -0.000038  0.000090\n",
      "6         G -4.639791 -2.512403  2.787416 -0.002586 -0.001934 -0.000691\n",
      "7         H -2.156690 -6.030677 -0.207847  0.000765 -0.020316 -0.012325\n",
      "8         I -2.637463 -4.133676  4.109641 -0.002360 -0.011246  0.000858\n",
      "9         J -2.893483 -5.812299  2.058436 -0.002236 -0.012013 -0.003880\n",
      "10        K -2.707773 -4.412336  3.336305  0.000910  0.000764  0.000800\n",
      "11        L -2.511362 -4.506612  2.899997 -0.001241 -0.006017 -0.002199\n",
      "12        M  4.998345 -3.760184  0.058331 -0.003017  0.002457 -0.007530\n",
      "13        O  1.916532 -4.586169 -0.460407 -0.106061 -0.034674  0.037822\n",
      "14        P  3.300672 -3.712491  0.770271 -0.071695 -0.368126  0.230266\n",
      "15        Q  0.005822 -6.687586  2.402811 -0.000498 -0.000077  0.000375\n",
      "16        R -3.206922 -3.644230  1.921715 -0.003328 -0.005151  0.000178\n",
      "17        S  0.258597 -5.753396  1.374281 -0.017581 -0.010080  0.001540\n"
     ]
    }
   ],
   "source": [
    "print(phone_df,watch_df)"
   ]
  },
  {
   "cell_type": "markdown",
   "metadata": {},
   "source": [
    "# Phone"
   ]
  },
  {
   "cell_type": "code",
   "execution_count": 21,
   "metadata": {},
   "outputs": [],
   "source": [
    "X=phone_df.iloc[:,[1,2,3,4,5,6]].values"
   ]
  },
  {
   "cell_type": "code",
   "execution_count": 22,
   "metadata": {},
   "outputs": [],
   "source": [
    "clustering = AgglomerativeClustering(n_clusters=3).fit(X)\n",
    "y_kmeans=clustering.labels_\n",
    "phone_df['agl'] = y_kmeans "
   ]
  },
  {
   "cell_type": "code",
   "execution_count": 23,
   "metadata": {
    "scrolled": true
   },
   "outputs": [
    {
     "name": "stdout",
     "output_type": "stream",
     "text": [
      "   Activity        x1        y1        z1        x2        y2        z2  agl\n",
      "3         D -0.113426 -0.898146  0.428868 -0.002636 -0.001546 -0.000102    0\n",
      "5         F -0.395725 -1.705319  0.260869 -0.002463 -0.000818 -0.002609    0\n",
      "6         G -0.119938 -1.273479 -0.096596 -0.003026 -0.000630 -0.002935    0\n",
      "7         H -0.008747 -0.766019  1.091866 -0.002210 -0.002025 -0.003482    0\n",
      "8         I -0.734535 -0.576693  1.879696 -0.002238 -0.002376 -0.002614    0\n",
      "15        Q -0.170456 -1.742381  0.995668 -0.002439 -0.001620 -0.003130    0\n",
      "16        R  0.168946 -1.060364 -0.077128 -0.002410 -0.001928 -0.001709    0\n",
      "17        S -0.683708 -1.757010  0.172157 -0.003149 -0.001202 -0.002127    0\n",
      "0         A  0.949236 -2.321588 -0.159745 -0.002077  0.011853 -0.009068    1\n",
      "1         B  0.222337 -2.818930  0.089083 -0.029753 -0.029171 -0.015954    1\n",
      "2         C  0.204692 -3.350358 -0.608602  0.010929 -0.012997  0.000366    1\n",
      "4         E -0.596092 -2.040649 -0.718897 -0.002129 -0.001898 -0.001759    1\n",
      "12        M  0.317484 -2.736209 -0.313712  0.002068  0.008468 -0.005265    1\n",
      "13        O -0.241793 -2.385464 -0.222695 -0.014731 -0.007066  0.009041    1\n",
      "14        P  0.504960 -1.881584  0.183099 -0.013215 -0.042859  0.020535    1\n",
      "9         J  1.259955 -1.162879  1.303108 -0.002164 -0.002564 -0.002209    2\n",
      "10        K  0.894594 -1.044495  0.746232 -0.001805 -0.001858 -0.002799    2\n",
      "11        L  1.006376 -0.786184  1.468486 -0.002117 -0.000573 -0.002013    2\n"
     ]
    }
   ],
   "source": [
    "print(phone_df.sort_values(by=['agl','Activity']))"
   ]
  },
  {
   "cell_type": "markdown",
   "metadata": {},
   "source": [
    "## Watch"
   ]
  },
  {
   "cell_type": "code",
   "execution_count": 24,
   "metadata": {},
   "outputs": [],
   "source": [
    "X=watch_df.iloc[:,[1,2,3,4,5,6]].values"
   ]
  },
  {
   "cell_type": "code",
   "execution_count": 25,
   "metadata": {},
   "outputs": [],
   "source": [
    "clustering = AgglomerativeClustering(n_clusters=3).fit(X)\n",
    "y_kmeans=clustering.labels_\n",
    "watch_df['agl'] = y_kmeans "
   ]
  },
  {
   "cell_type": "code",
   "execution_count": 26,
   "metadata": {},
   "outputs": [
    {
     "name": "stdout",
     "output_type": "stream",
     "text": [
      "   Activity        x1        y1        z1        x2        y2        z2  agl\n",
      "3         D  0.627913 -2.918544  5.225599  0.002877  0.000373 -0.000040    0\n",
      "5         F -0.333785 -4.283944  6.053603  0.000827 -0.000038  0.000090    0\n",
      "6         G -4.639791 -2.512403  2.787416 -0.002586 -0.001934 -0.000691    0\n",
      "7         H -2.156690 -6.030677 -0.207847  0.000765 -0.020316 -0.012325    0\n",
      "8         I -2.637463 -4.133676  4.109641 -0.002360 -0.011246  0.000858    0\n",
      "9         J -2.893483 -5.812299  2.058436 -0.002236 -0.012013 -0.003880    0\n",
      "10        K -2.707773 -4.412336  3.336305  0.000910  0.000764  0.000800    0\n",
      "11        L -2.511362 -4.506612  2.899997 -0.001241 -0.006017 -0.002199    0\n",
      "16        R -3.206922 -3.644230  1.921715 -0.003328 -0.005151  0.000178    0\n",
      "1         B  1.100125 -6.987424 -0.464980 -0.251163 -0.017893  0.025555    1\n",
      "13        O  1.916532 -4.586169 -0.460407 -0.106061 -0.034674  0.037822    1\n",
      "15        Q  0.005822 -6.687586  2.402811 -0.000498 -0.000077  0.000375    1\n",
      "17        S  0.258597 -5.753396  1.374281 -0.017581 -0.010080  0.001540    1\n",
      "0         A  5.596478 -3.940206  0.130475 -0.017660  0.002256 -0.007426    2\n",
      "2         C  5.605654 -3.628772  0.387169 -0.015807 -0.021793 -0.009755    2\n",
      "4         E  4.316739 -3.378300  0.898292 -0.003628 -0.002232 -0.002501    2\n",
      "12        M  4.998345 -3.760184  0.058331 -0.003017  0.002457 -0.007530    2\n",
      "14        P  3.300672 -3.712491  0.770271 -0.071695 -0.368126  0.230266    2\n"
     ]
    }
   ],
   "source": [
    "print(watch_df.sort_values(by=['agl','Activity']))"
   ]
  }
 ],
 "metadata": {
  "kernelspec": {
   "display_name": "Python 3",
   "language": "python",
   "name": "python3"
  },
  "language_info": {
   "codemirror_mode": {
    "name": "ipython",
    "version": 3
   },
   "file_extension": ".py",
   "mimetype": "text/x-python",
   "name": "python",
   "nbconvert_exporter": "python",
   "pygments_lexer": "ipython3",
   "version": "3.7.3"
  }
 },
 "nbformat": 4,
 "nbformat_minor": 2
}
